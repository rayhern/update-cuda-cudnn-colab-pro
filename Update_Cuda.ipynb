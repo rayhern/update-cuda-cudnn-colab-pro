{
  "nbformat": 4,
  "nbformat_minor": 0,
  "metadata": {
    "colab": {
      "name": "Update Cuda.ipynb",
      "provenance": [],
      "private_outputs": true,
      "collapsed_sections": [],
      "machine_shape": "hm",
      "mount_file_id": "1zvw6qjBkkox2VMhgWSeVRR8ya02IyZ2D",
      "authorship_tag": "ABX9TyN85zSRqqsKZfwvZnCj7JXj",
      "include_colab_link": true
    },
    "kernelspec": {
      "name": "python3",
      "display_name": "Python 3"
    },
    "accelerator": "GPU"
  },
  "cells": [
    {
      "cell_type": "markdown",
      "metadata": {
        "id": "view-in-github",
        "colab_type": "text"
      },
      "source": [
        "<a href=\"https://colab.research.google.com/github/rayhern/update-cuda-cudnn-colab-pro/blob/main/Update_Cuda.ipynb\" target=\"_parent\"><img src=\"https://colab.research.google.com/assets/colab-badge.svg\" alt=\"Open In Colab\"/></a>"
      ]
    },
    {
      "cell_type": "markdown",
      "metadata": {
        "id": "LIE9hMs9OiyN"
      },
      "source": [
        "#Update CUDA (10.2/11.1)"
      ]
    },
    {
      "cell_type": "code",
      "metadata": {
        "id": "U8ILsx-LE8Z3"
      },
      "source": [
        "!nvidia-smi\n",
        "!nvcc --version"
      ],
      "execution_count": null,
      "outputs": []
    },
    {
      "cell_type": "code",
      "metadata": {
        "id": "mgPg8OdjDwut"
      },
      "source": [
        "!sudo apt install cuda-toolkit-10-2\n",
        "!wget https://developer.download.nvidia.com/compute/cuda/repos/ubuntu1604/x86_64/cuda-ubuntu1604.pin\n",
        "!sudo mv cuda-ubuntu1604.pin /etc/apt/preferences.d/cuda-repository-pin-600\n",
        "!sudo apt-key adv --fetch-keys http://developer.download.nvidia.com/compute/cuda/repos/ubuntu1604/x86_64/7fa2af80.pub\n",
        "!sudo add-apt-repository \"deb http://developer.download.nvidia.com/compute/cuda/repos/ubuntu1604/x86_64/ /\"\n",
        "!sudo apt-get update\n",
        "!sudo apt-get -y install cuda\n",
        "!sudo apt --fix-broken install\n",
        "!sudo apt install cuda-cudart-10-2\n",
        "import os\n",
        "os.environ['PATH'] = '/usr/local/cuda-11.1/bin:/usr/local/nvidia/bin:/usr/local/cuda/bin:/usr/local/sbin:/usr/local/bin:/usr/sbin:/usr/bin:/sbin:/bin:/tools/node/bin:/tools/google-cloud-sdk/bin:/opt/bin'\n",
        "os.environ['LD_LIBRARY_PATH'] = '/usr/local/cuda-11.1/lib64:/usr/local/cuda-11.1/lib64:/usr/lib64-nvidia'\n",
        "!cp \"/content/drive/My Drive/cudnn-11.1-linux-x64-v8.0.4.30.tgz\" \"/content/cudnn-11.1.tgz\"\n",
        "!mkdir cudnn\n",
        "!tar -C cudnn/ -zxvf cudnn-11.1.tgz\n",
        "%cd cudnn/\n",
        "!sudo cp cuda/include/cudnn*.h /usr/local/cuda-11.1/include\n",
        "!sudo cp cuda/lib64/libcudnn* /usr/local/cuda-11.1/lib64\n",
        "!sudo chmod a+r /usr/local/cuda-11.1/include/cudnn*.h /usr/local/cuda-11.1/lib64/libcudnn*\n",
        "!sudo ldconfig\n",
        "%cd /content/"
      ],
      "execution_count": null,
      "outputs": []
    },
    {
      "cell_type": "markdown",
      "metadata": {
        "id": "lpei5svXPiQd"
      },
      "source": [
        "# Install dependencies that we could not before!"
      ]
    },
    {
      "cell_type": "code",
      "metadata": {
        "id": "tz-sNtO5FDeU"
      },
      "source": [
        "!pip install onnxruntime-gpu==1.5.1"
      ],
      "execution_count": null,
      "outputs": []
    },
    {
      "cell_type": "code",
      "metadata": {
        "id": "Eta1aEcKFIpA"
      },
      "source": [
        "import onnxruntime"
      ],
      "execution_count": null,
      "outputs": []
    },
    {
      "cell_type": "code",
      "metadata": {
        "id": "Ut2B8wCUE72D"
      },
      "source": [
        ""
      ],
      "execution_count": null,
      "outputs": []
    }
  ]
}